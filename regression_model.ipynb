{
 "cells": [
  {
   "cell_type": "markdown",
   "metadata": {},
   "source": [
    "## Regressão"
   ]
  },
  {
   "cell_type": "markdown",
   "metadata": {},
   "source": [
    "### Carregando os dados"
   ]
  },
  {
   "cell_type": "code",
   "execution_count": 22,
   "metadata": {},
   "outputs": [],
   "source": [
    "import numpy as np\n",
    "import pandas as pd\n",
    "\n",
    "df = pd.read_csv(\"./data/sensores_data.csv\")\n",
    "\n",
    "x_time = df[[\"Time\"]]\n",
    "y_temperature = df[[\"Temperature\"]]\n",
    "\n",
    "## Data Normalization\n",
    "x_time = (x_time - x_time.mean()) / x_time.std()\n",
    "\n",
    "## Add a column of 1s to intercept (beta_0)\n",
    "x_time = np.c_[np.ones(x_time.shape[0]), x_time]\n",
    "\n",
    "## Convert to numpy arrays\n",
    "x_time = np.array(x_time)\n",
    "y_temperature = np.array(y_temperature)\n",
    "\n",
    "if y_temperature.ndim == 1:\n",
    "    y_temperature = y_temperature.reshape(-1, 1)  # Transforma em vetor coluna (1000, 1)\n",
    "    \n",
    "## Initialize variables\n",
    "beta = np.zeros(x_time.shape[1])\n",
    "alpha = 0.01\n",
    "iterations = 1000\n",
    "N = len(y_temperature)"
   ]
  },
  {
   "cell_type": "markdown",
   "metadata": {},
   "source": [
    "### Função de custo"
   ]
  },
  {
   "cell_type": "code",
   "execution_count": 23,
   "metadata": {},
   "outputs": [],
   "source": [
    "def compute_cost(x_time, y_temperature, beta):\n",
    "    m = len(y_temperature)\n",
    "    predictions = x_time.dot(beta)\n",
    "    cost = (1 / (2 * m)) * np.sum(np.square(predictions - y_temperature))\n",
    "    return cost"
   ]
  },
  {
   "cell_type": "markdown",
   "metadata": {},
   "source": [
    "### Gradient Descent"
   ]
  },
  {
   "cell_type": "code",
   "execution_count": 24,
   "metadata": {},
   "outputs": [],
   "source": [
    "def gradient_descent(x_time, y_temperature, beta, alpha, iterations):\n",
    "    m = len(y_temperature)\n",
    "    cost_history = []\n",
    "\n",
    "    for i in range(iterations):\n",
    "        predictions = x_time.dot(beta)\n",
    "        error = predictions - y_temperature\n",
    "\n",
    "        beta -= (alpha / m) * x_time.dot(error)\n",
    "\n",
    "        cost_history.append(compute_cost(x_time, y_temperature, beta))\n",
    "\n",
    "    return beta, cost_history"
   ]
  },
  {
   "cell_type": "markdown",
   "metadata": {},
   "source": [
    "### Model Train"
   ]
  },
  {
   "cell_type": "markdown",
   "metadata": {},
   "source": [
    "### Model Avaliation"
   ]
  }
 ],
 "metadata": {
  "kernelspec": {
   "display_name": ".venv",
   "language": "python",
   "name": "python3"
  },
  "language_info": {
   "codemirror_mode": {
    "name": "ipython",
    "version": 3
   },
   "file_extension": ".py",
   "mimetype": "text/x-python",
   "name": "python",
   "nbconvert_exporter": "python",
   "pygments_lexer": "ipython3",
   "version": "3.12.6"
  }
 },
 "nbformat": 4,
 "nbformat_minor": 2
}
